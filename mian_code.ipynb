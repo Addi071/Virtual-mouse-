{
 "cells": [
  {
   "cell_type": "code",
   "execution_count": null,
   "id": "751ee251-f7b6-47d1-a948-daac691b6d61",
   "metadata": {},
   "outputs": [],
   "source": []
  },
  {
   "cell_type": "code",
   "execution_count": 1,
   "id": "adb94755-8a23-4300-95b7-7bfc290c4368",
   "metadata": {},
   "outputs": [],
   "source": [
    "import cv2\n",
    "import matplotlib.pyplot as plt\n",
    "import mediapipe as mp\n",
    "import util\n",
    "import pyautogui\n",
    "from pynput.mouse import Button, Controller\n",
    "import random\n",
    "\n",
    "mouse = Controller()"
   ]
  },
  {
   "cell_type": "code",
   "execution_count": 2,
   "id": "1daa988d-0349-4968-a43f-d108d903241d",
   "metadata": {},
   "outputs": [],
   "source": [
    "screen_width, screen_height = pyautogui.size()\n",
    "\n",
    "mpHands = mp.solutions.hands\n",
    "hands = mpHands.Hands( static_image_mode = False,\n",
    "                     model_complexity = 1,\n",
    "                     min_detection_confidence = 0.7,\n",
    "                     min_tracking_confidence = 0.7,\n",
    "                     max_num_hands = 1)"
   ]
  },
  {
   "cell_type": "code",
   "execution_count": 3,
   "id": "5181196f-a39d-4d12-a497-728ff6aeb94b",
   "metadata": {},
   "outputs": [],
   "source": [
    "def find_finger_tip(process):\n",
    "    if process.multi_hand_landmarks:\n",
    "        hand_landmarks = process.multi_hand_landmarks[0]\n",
    "        return hand_landmarks.landmark[mpHands.HandLandmark.INDEX_FINGER_TIP]\n",
    "    return None"
   ]
  },
  {
   "cell_type": "code",
   "execution_count": 4,
   "id": "2c3bf96d-54ef-4d70-b615-836e3c68de25",
   "metadata": {},
   "outputs": [],
   "source": [
    "def move_mouse(index_finger_tip):\n",
    "    if index_finger_tip is not None:\n",
    "        x = int(index_finger_tip.x * screen_width)\n",
    "        y = int(index_finger_tip.y * screen_height)\n",
    "        pyautogui.moveTo(x,y)"
   ]
  },
  {
   "cell_type": "code",
   "execution_count": 5,
   "id": "562c3eae-83c3-44f3-92b9-f1611025a615",
   "metadata": {},
   "outputs": [],
   "source": [
    "def is_left_click(landmarks_list, thumb_index_dist):\n",
    "    return(util.get_angle(landmarks_list[5],landmarks_list[6],landmarks_list[8]) < 50 and\n",
    "          util.get_angle(landmarks_list[9],landmarks_list[10],landmarks_list[12]) > 87 and\n",
    "           thumb_index_dist > 40)\n",
    "    \n",
    "def is_right_click(landmarks_list, thumb_index_dist):\n",
    "    return(util.get_angle(landmarks_list[5],landmarks_list[6],landmarks_list[8]) > 87 and\n",
    "          util.get_angle(landmarks_list[9],landmarks_list[10],landmarks_list[12]) < 50 and\n",
    "           thumb_index_dist > 40)\n",
    "    \n",
    "def is_double_click(landmarks_list, thumb_index_dist):\n",
    "    return(util.get_angle(landmarks_list[5],landmarks_list[6],landmarks_list[8]) < 50 and\n",
    "          util.get_angle(landmarks_list[9],landmarks_list[10],landmarks_list[12]) < 50 and\n",
    "           thumb_index_dist > 40)\n",
    "    \n",
    "def is_screenshot(landmarks_list, thumb_index_dist):\n",
    "    return(util.get_angle(landmarks_list[5],landmarks_list[6],landmarks_list[8]) < 50 and\n",
    "          util.get_angle(landmarks_list[9],landmarks_list[10],landmarks_list[12]) < 50 and\n",
    "           thumb_index_dist < 40)"
   ]
  },
  {
   "cell_type": "code",
   "execution_count": 6,
   "id": "17df0f99-aa1d-4701-88fd-fb7e9025ba9c",
   "metadata": {},
   "outputs": [],
   "source": [
    "def detect_gestures(frame,landmarks_list,process):\n",
    "    if len(landmarks_list) >= 21:\n",
    "        index_finger_tip = find_finger_tip(process)\n",
    "        thumb_index_distance = util.get_dist([landmarks_list[4], landmarks_list[5]])\n",
    "        # angel = util.get_angle(landmarks_list[5],landmarks_list[6],landmarks_list[8])\n",
    "#cursour movement code\n",
    "        if thumb_index_distance < 40 and util.get_angle(landmarks_list[5],landmarks_list[6],landmarks_list[8]) > 90:\n",
    "            move_mouse(index_finger_tip)\n",
    "            # print(thumb_index_distance)\n",
    "\n",
    "#left click code\n",
    "        elif is_left_click(landmarks_list,thumb_index_distance):\n",
    "            mouse.press(Button.left)\n",
    "            mouse.release(Button.left)\n",
    "            cv2.putText(frame,\"Left Click\",(50,50), cv2.FONT_HERSHEY_SIMPLEX,1,(0,255,0),2)\n",
    "\n",
    "#right click code\n",
    "        elif is_right_click(landmarks_list,thumb_index_distance):\n",
    "            mouse.press(Button.right)\n",
    "            mouse.release(Button.right)\n",
    "            cv2.putText(frame,\"Right Click\",(50,50), cv2.FONT_HERSHEY_SIMPLEX,1,(0,0,255),2)\n",
    "\n",
    "#double click code\n",
    "        elif is_double_click(landmarks_list,thumb_index_distance):\n",
    "            pyautogui.doubleClick()\n",
    "            cv2.putText(frame,\"Double Click\",(50,50), cv2.FONT_HERSHEY_SIMPLEX,1,(255,255,0),2)\n",
    "            \n",
    "#Screenshot code\n",
    "        elif is_screenshot(landmarks_list,thumb_index_distance):\n",
    "            im1 = pyautogui.screenshot()\n",
    "            label = random.randint(1, 1000)\n",
    "            im1.save(f'my_screenshot_{label}.png')\n",
    "            cv2.putText(frame, \"Screenshot Taken\", (50, 50), cv2.FONT_HERSHEY_SIMPLEX, 1, (255, 255, 0), 2)"
   ]
  },
  {
   "cell_type": "code",
   "execution_count": 10,
   "id": "819af13a-5bd2-41b1-916a-aa15e115a2a1",
   "metadata": {},
   "outputs": [],
   "source": [
    "def main():\n",
    "    # mp_hands = mp.solutions.hands\n",
    "    # hands = mp_hands.Hands(max_num_hands = 2)\n",
    "    \n",
    "    #video capturing\n",
    "    cap = cv2.VideoCapture(0)\n",
    "    draw = mp.solutions.drawing_utils\n",
    "\n",
    "    try:\n",
    "        while True:\n",
    "            ret, frame = cap.read()  # Capture frame-by-frame\n",
    "            if not ret:\n",
    "                break  # If frame not captured, exit loop\n",
    "            frame = cv2.flip(frame,1)\n",
    "            rgb_frame = cv2.cvtColor(frame,cv2.COLOR_BGR2RGB)\n",
    "            process = hands.process(rgb_frame)\n",
    "            landmarks_list = []\n",
    "            if process.multi_hand_landmarks:\n",
    "                hand_landmarks = process.multi_hand_landmarks[0]\n",
    "                draw.draw_landmarks(frame,hand_landmarks, mpHands.HAND_CONNECTIONS)\n",
    "\n",
    "                for lm in hand_landmarks.landmark:\n",
    "                    landmarks_list.append((lm.x , lm.y))\n",
    "\n",
    "            detect_gestures(frame,landmarks_list,process)\n",
    "                # print(landmarks_list)\n",
    "            cv2.imshow('Real-Time Video', frame)  # Display the frame\n",
    "        \n",
    "            # Press 'q' to quit\n",
    "            if cv2.waitKey(1) & 0xFF == ord('q'):\n",
    "                break\n",
    "    finally:\n",
    "        cap.release()  # Release the webcam\n",
    "        cv2.destroyAllWindows()  # Close all OpenCV windows\n",
    "\n",
    "if __name__ == \"__main__\":\n",
    "    main()"
   ]
  },
  {
   "cell_type": "code",
   "execution_count": 13,
   "id": "9b5d38cd-1023-40c8-9439-7b79c9ad9410",
   "metadata": {},
   "outputs": [
    {
     "ename": "SyntaxError",
     "evalue": "incomplete input (2318177465.py, line 11)",
     "output_type": "error",
     "traceback": [
      "\u001b[1;36m  Cell \u001b[1;32mIn[13], line 11\u001b[1;36m\u001b[0m\n\u001b[1;33m    \u001b[0m\n\u001b[1;37m    ^\u001b[0m\n\u001b[1;31mSyntaxError\u001b[0m\u001b[1;31m:\u001b[0m incomplete input\n"
     ]
    }
   ],
   "source": [
    "def main():\n",
    "    cap = cv2.VideoCapture(0)\n",
    "    draw = mp.solutions.drawing_utils\n",
    "    try:\n",
    "        while cap.isOpened():\n",
    "            ret, frame = cap.read()\n",
    "            if not ret:\n",
    "                break\n",
    "            frame = cv2.flip(frame,1)\n",
    "            frame_rgb = cv2.cvtColor(frame,cv2.COLOR_BGR2RGB)\n",
    "            "
   ]
  },
  {
   "cell_type": "code",
   "execution_count": null,
   "id": "ef7889ec-03f5-4aeb-96ea-5dfd1fd91647",
   "metadata": {},
   "outputs": [],
   "source": []
  },
  {
   "cell_type": "code",
   "execution_count": null,
   "id": "db822b0f-86f1-424a-8e71-d122a6a7f4bf",
   "metadata": {},
   "outputs": [],
   "source": []
  }
 ],
 "metadata": {
  "kernelspec": {
   "display_name": "Python 3 (ipykernel)",
   "language": "python",
   "name": "python3"
  },
  "language_info": {
   "codemirror_mode": {
    "name": "ipython",
    "version": 3
   },
   "file_extension": ".py",
   "mimetype": "text/x-python",
   "name": "python",
   "nbconvert_exporter": "python",
   "pygments_lexer": "ipython3",
   "version": "3.12.1"
  }
 },
 "nbformat": 4,
 "nbformat_minor": 5
}
